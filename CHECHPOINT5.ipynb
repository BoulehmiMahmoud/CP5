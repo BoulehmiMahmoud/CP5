{
 "cells": [
  {
   "cell_type": "code",
   "execution_count": 4,
   "id": "8205e0bf",
   "metadata": {},
   "outputs": [
    {
     "name": "stdout",
     "output_type": "stream",
     "text": [
      "4\n",
      "5\n",
      "6\n"
     ]
    }
   ],
   "source": [
    "#1\n",
    "class point3D:\n",
    "    def __init__(self,x,y,z):\n",
    "        self.x=x\n",
    "        self.y=y\n",
    "        self.z=z\n",
    "A=point3D(4,5,6)\n",
    "print(A.x)\n",
    "print(A.y)\n",
    "print(A.z)"
   ]
  },
  {
   "cell_type": "code",
   "execution_count": 4,
   "id": "7601b8dc",
   "metadata": {},
   "outputs": [
    {
     "name": "stdout",
     "output_type": "stream",
     "text": [
      "12\n",
      "14\n"
     ]
    }
   ],
   "source": [
    "#2\n",
    "class Rectangle:\n",
    "    def __init__(self,length,width):\n",
    "        self.length=length\n",
    "        self.width=width\n",
    "    def area(self):\n",
    "        area=self.length*self.width\n",
    "        return area\n",
    "    def perimeter(self):\n",
    "        perimeter=2*(self.length+self.width)\n",
    "        return perimeter\n",
    "ABCD=Rectangle(3,4)\n",
    "print(ABCD.area())\n",
    "print(ABCD.perimeter())"
   ]
  },
  {
   "cell_type": "code",
   "execution_count": 20,
   "id": "e7d3960b",
   "metadata": {},
   "outputs": [
    {
     "name": "stdout",
     "output_type": "stream",
     "text": [
      "28.274333882308138\n",
      "18.84955592153876\n",
      "In\n",
      "None\n"
     ]
    }
   ],
   "source": [
    "#3\n",
    "class Circle:\n",
    "    def __init__ (self,center,radius):\n",
    "        self.center=str(center)\n",
    "        self.radius=int(radius)\n",
    "    def area(self):\n",
    "        from math import pi\n",
    "        area=pi*(self.radius**2)\n",
    "        return area\n",
    "    def perimeter(self):\n",
    "        from math import pi\n",
    "        perimeter=pi*2*self.radius\n",
    "        return perimeter\n",
    "    def isInside(self,x,y):\n",
    "        self.x=x\n",
    "        self.y=y\n",
    "        from math import sqrt\n",
    "        isInside=sqrt((self.x**2)+(self.y**2))\n",
    "        if isInside<=self.radius:\n",
    "            print(\"In\")\n",
    "        else :\n",
    "            print(\"out\")\n",
    "C=Circle(\"O\",3)\n",
    "print(C.area())\n",
    "print(C.perimeter())\n",
    "A=print(C.isInside(0,3))"
   ]
  },
  {
   "cell_type": "code",
   "execution_count": 21,
   "id": "83cd39de",
   "metadata": {},
   "outputs": [],
   "source": [
    "#4\n",
    "class Bank:\n",
    "    def __init__(self,balance):\n",
    "        self.balance=balance\n",
    "    def "
   ]
  },
  {
   "cell_type": "code",
   "execution_count": null,
   "id": "ebddee77",
   "metadata": {},
   "outputs": [],
   "source": []
  }
 ],
 "metadata": {
  "kernelspec": {
   "display_name": "Python 3",
   "language": "python",
   "name": "python3"
  },
  "language_info": {
   "codemirror_mode": {
    "name": "ipython",
    "version": 3
   },
   "file_extension": ".py",
   "mimetype": "text/x-python",
   "name": "python",
   "nbconvert_exporter": "python",
   "pygments_lexer": "ipython3",
   "version": "3.8.8"
  }
 },
 "nbformat": 4,
 "nbformat_minor": 5
}
